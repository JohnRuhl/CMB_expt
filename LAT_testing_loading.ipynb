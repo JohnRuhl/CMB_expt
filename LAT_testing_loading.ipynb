{
 "cells": [
  {
   "cell_type": "markdown",
   "metadata": {},
   "source": [
    "J. Ruhl, 11/22/2020 <br>\n",
    "This notebook calculates the loading on dichroic bolometers looking into the room through an NDF.  The intent is to see if we can use a \"mild\" NDF in combination with a \"not-too-high\" high-Tc TES for the CMB-S4 LATs, for lab testing. <br>"
   ]
  },
  {
   "cell_type": "code",
   "execution_count": 11,
   "metadata": {},
   "outputs": [],
   "source": [
    "# imports\n",
    "import matplotlib.pyplot as plt\n",
    "import h5py as hp\n",
    "\n",
    "# physical constants\n",
    "k = 1.38e-23\n",
    "c= 2.99792458e8\n",
    "h = 6.626068e-34"
   ]
  },
  {
   "cell_type": "markdown",
   "metadata": {},
   "source": [
    "Define the NDF properties here.  Play with the NDF thickness and temperature by hand to make the Lab loading acceptable.  The \"room\" temperature is set to 450K to allow for looking into a mildly hot load."
   ]
  },
  {
   "cell_type": "code",
   "execution_count": 12,
   "metadata": {},
   "outputs": [],
   "source": [
    "# NDF properties\n",
    "#d_inches = 2.35\n",
    "#d = d_inches*2.54  # cm\n",
    "\n",
    "# At 150 use about d=6cm, T_ndf = 3K, to get reasonable loading for 95,150 CHLAT.\n",
    "d = 0. #cm\n",
    "T_ndf = 5  #K\n",
    "T_room = 450 #K\n",
    "\n",
    "#CR110 material properties, from Halpern etal 1986, Applied Optics, v25, no 4.\n",
    "# alpha = a*icm**b   \n",
    "a = 0.3   # for eccosorb CR110 at 4K\n",
    "b = 1.2   # for eccosorb CR110 at 4K"
   ]
  },
  {
   "cell_type": "markdown",
   "metadata": {},
   "source": [
    "Define the bands you want to look at."
   ]
  },
  {
   "cell_type": "code",
   "execution_count": 13,
   "metadata": {},
   "outputs": [],
   "source": [
    "#Lowedge_20 = \n",
    "#Upperedge_20 =\n",
    "#\n",
    "Lowedge_30 = 24.0\n",
    "Upperedge_30 = 30.0\n",
    "#\n",
    "Lowedge_40 = 30.0 \n",
    "Upperedge_40 = 48.0\n",
    "#\n",
    "Lowedge_95 = 75.5\n",
    "Upperedge_95 = 110.0\n",
    "#\n",
    "Lowedge_150 = 125.0\n",
    "Upperedge_150 = 165.0\n",
    "#\n",
    "Lowedge_220 = 195.0\n",
    "Upperedge_220 = 255.0\n",
    "#\n",
    "Lowedge_280 = 255.5\n",
    "Upperedge_280 = 300.0\n",
    "\n",
    "# CHLAT Popticals\n",
    "Popt_30 = 0.14\n",
    "Popt_40 = 0.94\n",
    "Popt_95 = 1.18 #pW\n",
    "Popt_150 = 2.5 #pW\n",
    "Popt_220 = 11.1\n",
    "Popt_280 = 11.8\n"
   ]
  },
  {
   "cell_type": "code",
   "execution_count": 14,
   "metadata": {},
   "outputs": [],
   "source": [
    "# Low band edges\n",
    "LowBand_lowedge = Lowedge_220\n",
    "LowBand_upperedge = Upperedge_220\n",
    "\n",
    "# High band edges\n",
    "HighBand_lowedge = Lowedge_280\n",
    "HighBand_upperedge = Upperedge_280\n",
    "\n",
    "Popt_low = Popt_220\n",
    "Popt_high = Popt_280"
   ]
  },
  {
   "cell_type": "markdown",
   "metadata": {},
   "source": [
    "We scale the Popticals (on the science transition, under observing conditions) to the expected Psat for a detector operating on the high-Tc transition.  This scaling depends on \n",
    "\n",
    "- the Tc of the upper transition, and \n",
    "- the index n of the legs, which is roughly 2.5 to 3.0, and \n",
    "- the Psat safety factor relating Poptical to Psat on the science transition.\n"
   ]
  },
  {
   "cell_type": "code",
   "execution_count": 15,
   "metadata": {},
   "outputs": [
    {
     "name": "stdout",
     "output_type": "stream",
     "text": [
      "29.76904898108455\n"
     ]
    }
   ],
   "source": [
    "n = 2.7\n",
    "Psat_safetyfactor=3.0\n",
    "Tc_upper = 0.5  #K\n",
    "Tc_science = 0.16\n",
    "T_base = 0.1\n",
    "eta_module = 0.7\n",
    "#\n",
    "scalefactor1 = (Tc_upper**n - T_base**n)/(Tc_science**n - T_base**n)\n",
    "scalefactor = Psat_safetyfactor*scalefactor1\n",
    "Psat_low_highTc = Popt_low*scalefactor\n",
    "Psat_high_highTc = Popt_high*scalefactor\n",
    "print(scalefactor1)"
   ]
  },
  {
   "cell_type": "markdown",
   "metadata": {},
   "source": [
    "We now set up a single frequency vector over which we are going to calculate and plot the NDF transmission and emissivity, and pick elements out of that vector to define the ranges over which we will integrate to find the lower and upper band powers."
   ]
  },
  {
   "cell_type": "code",
   "execution_count": 16,
   "metadata": {},
   "outputs": [],
   "source": [
    "# Set up frequency vectors\n",
    "\n",
    "dnu = 0.1\n",
    "nu = np.arange(0.8*LowBand_lowedge,1.2*HighBand_upperedge,dnu)   # GHz\n",
    "\n",
    "ii = np.nonzero(nu>LowBand_lowedge)\n",
    "jj = np.nonzero(nu<LowBand_upperedge)\n",
    "lowband_indices = np.intersect1d(ii,jj)\n",
    "ii = np.nonzero(nu>HighBand_lowedge)\n",
    "jj = np.nonzero(nu<HighBand_upperedge)\n",
    "highband_indices = np.intersect1d(ii,jj)"
   ]
  },
  {
   "cell_type": "markdown",
   "metadata": {},
   "source": [
    "We're going to need a blackbody function, so define it now. This is the power per Hz for a single-mode, single polarization detector;  that is, it is the usual Planck function divided by two (for polarization) and multiplied by $A \\Omega = \\lambda^2 = (c/\\nu)^2$."
   ]
  },
  {
   "cell_type": "code",
   "execution_count": 17,
   "metadata": {},
   "outputs": [],
   "source": [
    "def Pnu(T,nu):\n",
    "    # This returns the power for a single polarization, single-moded, bolo.\n",
    "    x = (h*nu)/(k*T)\n",
    "    #B =  1.0*(h*nu)*(nu/c)**2 * (1./(np.exp(x) - 1.))\n",
    "    # multiply by AOmega = lambda^2 = c^2/nu^2 for a single-mode bolometer\n",
    "    P = 1.0*(h*nu) * (1./(np.exp(x) - 1.))\n",
    "    return P"
   ]
  },
  {
   "cell_type": "markdown",
   "metadata": {},
   "source": [
    "Finally, we can do our calculations."
   ]
  },
  {
   "cell_type": "code",
   "execution_count": 18,
   "metadata": {},
   "outputs": [],
   "source": [
    "# Calculate NDF transmission and emissivity, then loading\n",
    "icm = nu/30 \n",
    "alpha = a*icm**b   \n",
    "\n",
    "transmission = np.exp(-alpha*d)\n",
    "emissivity = 1-transmission\n",
    "\n",
    "# NDF loading\n",
    "L2a = eta_module*emissivity[lowband_indices]* Pnu(T_ndf,nu[lowband_indices]*1e9)\n",
    "H2a = eta_module*emissivity[highband_indices]*Pnu(T_ndf,nu[highband_indices]*1e9)\n",
    "\n",
    "# Room loading\n",
    "L2b = eta_module*transmission[lowband_indices]* Pnu(T_room,nu[lowband_indices]*1e9)\n",
    "H2b = eta_module*transmission[highband_indices]*Pnu(T_room,nu[highband_indices]*1e9)\n",
    "\n",
    "# Total loading\n",
    "lbl_2 = np.trapz(L2a,dx=dnu*1e9) + np.trapz(L2b,dx=dnu*1e9)\n",
    "hbl_2 = np.trapz(H2a,dx=dnu*1e9) + np.trapz(H2b,dx=dnu*1e9)"
   ]
  },
  {
   "cell_type": "markdown",
   "metadata": {},
   "source": [
    "Report results"
   ]
  },
  {
   "cell_type": "code",
   "execution_count": 22,
   "metadata": {},
   "outputs": [
    {
     "name": "stdout",
     "output_type": "stream",
     "text": [
      "NDF (thickness, temp) = 0.00cm, 5.00K\n",
      "Lower Band Loading\n",
      "   Popt on sky        : 11.10 pW\n",
      "   Popt in lab w/ NDF : 257.27 pW\n",
      "   Psat, on high-Tc   : 991.31 pW\n",
      "\n",
      "Upper Band Loading\n",
      "   Popt on sky        : 11.80 pW\n",
      "   Popt in lab w/ NDF : 190.16 pW\n",
      "   Psat, on high-Tc   : 1053.82 pW\n"
     ]
    },
    {
     "data": {
      "image/png": "[encoded data removed]",
      "text/plain": [
       "<Figure size 720x432 with 1 Axes>"
      ]
     },
     "metadata": {
      "needs_background": "light"
     },
     "output_type": "display_data"
    }
   ],
   "source": [
    "# Plot NDF transmission\n",
    "miny = 1e-6\n",
    "maxy = 1\n",
    "plt.plot(nu,transmission)\n",
    "plt.plot([LowBand_lowedge,LowBand_lowedge],[miny,maxy],'r')\n",
    "plt.plot([LowBand_upperedge,LowBand_upperedge],[miny,maxy],'r')\n",
    "plt.plot([HighBand_lowedge,HighBand_lowedge],[miny,maxy],'b')\n",
    "plt.plot([HighBand_upperedge,HighBand_upperedge],[miny,maxy],'b')\n",
    "plt.ylim([miny,1.03*maxy])\n",
    "plt.grid()\n",
    "plt.title('NDF transmission, thickness = {0:2.2f}cm'.format(d))\n",
    "plt.xlabel('Frequency (GHz)')\n",
    "plt.text(LowBand_lowedge*1.01,0.7*maxy,'Low Band',color='red')\n",
    "plt.text(HighBand_lowedge*1.01,0.8*maxy,'Upper Band',color='blue')\n",
    "\n",
    "\n",
    "print('NDF (thickness, temp) = {0:2.2f}cm, {1:2.2f}K'.format(d,T_ndf))\n",
    "print('Lower Band Loading')\n",
    "print('   Popt on sky        : {0:2.2f} pW'.format(Popt_low))\n",
    "print('   Popt in lab w/ NDF : {0:2.2f} pW'.format(lbl_2*1e12))\n",
    "print('   Psat, on high-Tc   : {0:2.2f} pW'.format(Psat_low_highTc))\n",
    "print('')\n",
    "print('Upper Band Loading')\n",
    "print('   Popt on sky        : {0:2.2f} pW'.format(Popt_high))\n",
    "print('   Popt in lab w/ NDF : {0:2.2f} pW'.format(hbl_2*1e12))\n",
    "print('   Psat, on high-Tc   : {0:2.2f} pW'.format(Psat_high_highTc))\n"
   ]
  },
  {
   "cell_type": "code",
   "execution_count": 23,
   "metadata": {},
   "outputs": [
    {
     "data": {
      "text/plain": [
       "3.125"
      ]
     },
     "execution_count": 23,
     "metadata": {},
     "output_type": "execute_result"
    }
   ],
   "source": []
  },
  {
   "cell_type": "code",
   "execution_count": null,
   "metadata": {},
   "outputs": [],
   "source": []
  },
  {
   "cell_type": "code",
   "execution_count": null,
   "metadata": {},
   "outputs": [],
   "source": []
  },
  {
   "cell_type": "code",
   "execution_count": null,
   "metadata": {},
   "outputs": [],
   "source": []
  },
  {
   "cell_type": "code",
   "execution_count": null,
   "metadata": {},
   "outputs": [],
   "source": []
  }
 ],
 "metadata": {
  "kernelspec": {
   "display_name": "Python 3",
   "language": "python",
   "name": "python3"
  },
  "language_info": {
   "codemirror_mode": {
    "name": "ipython",
    "version": 3
   },
   "file_extension": ".py",
   "mimetype": "text/x-python",
   "name": "python",
   "nbconvert_exporter": "python",
   "pygments_lexer": "ipython3",
   "version": "3.8.3"
  }
 },
 "nbformat": 4,
 "nbformat_minor": 4
}
