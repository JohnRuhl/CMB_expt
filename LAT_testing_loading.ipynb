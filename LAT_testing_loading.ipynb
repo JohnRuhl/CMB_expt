{
 "cells": [
  {
   "cell_type": "markdown",
   "metadata": {},
   "source": [
    "J. Ruhl, 11/22/2020 <br>\n",
    "This notebook calculates the loading on dichroic bolometers looking into the room through an NDF.  The intent is to see if we can use a \"mild\" NDF (Eccosorb CR110 castable resin) in combination with a \"not-too-high\" high-Tc TES for the CMB-S4 LATs, for lab testing. <br>\n",
    "\n",
    "To use this notebook, select which bands you want to compute for in the first code cell below, then run the whole thing.\n",
    "\n",
    "TL;DR - using a mild NDF (attenuate by a factor of a few) in the LAT bands $\\leq 150$GHz looks like a good idea."
   ]
  },
  {
   "cell_type": "markdown",
   "metadata": {},
   "source": [
    "# Choose which bands you want to look at here\n",
    "(upper and lower bands of dichroic)\n",
    "Then run the whole notebook."
   ]
  },
  {
   "cell_type": "code",
   "execution_count": 11,
   "metadata": {},
   "outputs": [],
   "source": [
    "# choices are '30','40',  '95', '150', '220', '28'\n",
    "BL = '30'  # lower band.  This one sets the NDF thickness, below.\n",
    "BH = '40'  # upper band"
   ]
  },
  {
   "cell_type": "code",
   "execution_count": 12,
   "metadata": {},
   "outputs": [],
   "source": [
    "# imports\n",
    "import matplotlib.pyplot as plt\n",
    "import h5py as hp\n",
    "\n",
    "%matplotlib inline\n",
    "plt.rcParams.update({'font.size': 18})\n",
    "plt.rcParams['figure.figsize'] = [10, 8]\n",
    "\n",
    "# physical constants\n",
    "k = 1.38e-23\n",
    "c= 2.99792458e8\n",
    "h = 6.626068e-34"
   ]
  },
  {
   "cell_type": "markdown",
   "metadata": {},
   "source": [
    "# Define the NDF properties here.  \n",
    "Play with the NDF thickness and temperature by hand to make the Lab loading acceptable.  The \"room\" temperature is set to 450K to allow for looking into a mildly hot load."
   ]
  },
  {
   "cell_type": "code",
   "execution_count": 13,
   "metadata": {},
   "outputs": [],
   "source": [
    "# NDF properties\n",
    "# d is expressed in centimeters.\n",
    "\n",
    "# At 150 use about d=6cm, T_ndf = 3K, to get reasonable loading for 95,150 CHLAT.\n",
    "d_choices = {'30':5,'40':5,'95':0.5,'150':0.5,'220':0.0,'280':0.0}\n",
    "d = d_choices[BL]\n",
    "T_ndf = 5  #K\n",
    "T_room = 450 #K\n",
    "\n",
    "#CR110 material properties, from Halpern etal 1986, Applied Optics, v25, no 4.\n",
    "# alpha = a*icm**b   \n",
    "a = 0.3   # for eccosorb CR110 at 4K\n",
    "b = 1.2   # for eccosorb CR110 at 4K"
   ]
  },
  {
   "cell_type": "markdown",
   "metadata": {},
   "source": [
    "# Define the band parameters"
   ]
  },
  {
   "cell_type": "code",
   "execution_count": 14,
   "metadata": {},
   "outputs": [],
   "source": [
    "bands = {'30':{}, '40':{},'95':{},'150':{}, '220':{}, '280':{}}\n",
    "bands['30'] = {'loweredge':24.0, 'upperedge':30.0, 'Popt':0.14}\n",
    "bands['40'] = {'loweredge':30.0, 'upperedge':48.0, 'Popt':0.94}\n",
    "bands['95'] = {'loweredge':75.5, 'upperedge':110.0, 'Popt': 1.18}\n",
    "bands['150'] = {'loweredge':125.0, 'upperedge':165.0, 'Popt':2.5}\n",
    "bands['220'] = {'loweredge':195.0, 'upperedge':255.0, 'Popt':11.1}\n",
    "bands['280'] = {'loweredge':255.5, 'upperedge':300.0, 'Popt':11.8}\n",
    "\n",
    "\n",
    "# CHLAT Popticals, from the CMB-S4 pBD.\n",
    "Popt_30 = 0.14\n",
    "Popt_40 = 0.94\n",
    "Popt_95 = 1.18 #pW\n",
    "Popt_150 = 2.5 #pW\n",
    "Popt_220 = 11.1\n",
    "Popt_280 = 11.8\n",
    "\n",
    "\n",
    "# Low band edges\n",
    "LowBand_lowedge   = bands[BL]['loweredge']\n",
    "LowBand_upperedge = bands[BL]['upperedge']\n",
    "\n",
    "# High band edges\n",
    "HighBand_lowedge   = bands[BH]['loweredge']\n",
    "HighBand_upperedge = bands[BH]['upperedge']\n",
    "\n",
    "# Psats\n",
    "Popt_low  = bands[BL]['Popt']\n",
    "Popt_high = bands[BH]['Popt']"
   ]
  },
  {
   "cell_type": "markdown",
   "metadata": {},
   "source": [
    "# Define detector parameters here.\n",
    "\n",
    "We scale the Popticals (on the science transition, under observing conditions) to the expected Psat for a detector operating on the high-Tc transition.  This scaling depends on \n",
    "\n",
    "- the Tc of the upper transition, and \n",
    "- the index n of the legs, which for SPT has typically been 2.5 to 3.0, and \n",
    "- the Psat safety factor relating Poptical to Psat on the science transition.\n"
   ]
  },
  {
   "cell_type": "code",
   "execution_count": 15,
   "metadata": {},
   "outputs": [],
   "source": [
    "n = 2.7\n",
    "Psat_safetyfactor=3.0\n",
    "Tc_upper = 0.5  #K\n",
    "Tc_science = 0.16\n",
    "T_base = 0.1\n",
    "eta_module = 0.7  # optical efficiency in module testing.\n",
    "#\n",
    "scalefactor1 = (Tc_upper**n - T_base**n)/(Tc_science**n - T_base**n)\n",
    "scalefactor = Psat_safetyfactor*scalefactor1\n",
    "Psat_low_highTc = Popt_low*scalefactor\n",
    "Psat_high_highTc = Popt_high*scalefactor\n",
    "#print(scalefactor1)"
   ]
  },
  {
   "cell_type": "markdown",
   "metadata": {},
   "source": [
    "We now set up a single frequency vector over which we are going to calculate and plot the NDF transmission and emissivity, and pick elements out of that vector to define the ranges over which we will integrate to find the lower and upper band powers."
   ]
  },
  {
   "cell_type": "code",
   "execution_count": 16,
   "metadata": {},
   "outputs": [],
   "source": [
    "# Set up frequency vectors\n",
    "\n",
    "dnu = 0.1\n",
    "nu = np.arange(0.8*LowBand_lowedge,1.2*HighBand_upperedge,dnu)   # GHz\n",
    "\n",
    "ii = np.nonzero(nu>LowBand_lowedge)\n",
    "jj = np.nonzero(nu<LowBand_upperedge)\n",
    "lowband_indices = np.intersect1d(ii,jj)\n",
    "ii = np.nonzero(nu>HighBand_lowedge)\n",
    "jj = np.nonzero(nu<HighBand_upperedge)\n",
    "highband_indices = np.intersect1d(ii,jj)"
   ]
  },
  {
   "cell_type": "markdown",
   "metadata": {},
   "source": [
    "We're going to need a blackbody function, so define it now. This is the power per Hz for a single-mode, single polarization detector;  that is, it is the usual Planck function divided by two (for polarization) and multiplied by $A \\Omega = \\lambda^2 = (c/\\nu)^2$."
   ]
  },
  {
   "cell_type": "code",
   "execution_count": 17,
   "metadata": {},
   "outputs": [],
   "source": [
    "def Pnu(T,nu):\n",
    "    # This returns the power for a single polarization, single-moded, bolo.\n",
    "    x = (h*nu)/(k*T)\n",
    "    #B =  1.0*(h*nu)*(nu/c)**2 * (1./(np.exp(x) - 1.))\n",
    "    # multiply by AOmega = lambda^2 = c^2/nu^2 for a single-mode bolometer\n",
    "    P = 1.0*(h*nu) * (1./(np.exp(x) - 1.))\n",
    "    return P"
   ]
  },
  {
   "cell_type": "markdown",
   "metadata": {},
   "source": [
    "Finally, we can do our calculations."
   ]
  },
  {
   "cell_type": "code",
   "execution_count": 18,
   "metadata": {},
   "outputs": [],
   "source": [
    "# Calculate NDF transmission and emissivity, then loading\n",
    "icm = nu/30 \n",
    "alpha = a*icm**b   \n",
    "\n",
    "transmission = np.exp(-alpha*d)\n",
    "emissivity = 1-transmission\n",
    "\n",
    "# NDF loading - for wafer module testing case.\n",
    "L2a = eta_module*emissivity[lowband_indices]* Pnu(T_ndf,nu[lowband_indices]*1e9)\n",
    "H2a = eta_module*emissivity[highband_indices]*Pnu(T_ndf,nu[highband_indices]*1e9)\n",
    "\n",
    "# Room loading\n",
    "L2b = eta_module*transmission[lowband_indices]* Pnu(T_room,nu[lowband_indices]*1e9)\n",
    "H2b = eta_module*transmission[highband_indices]*Pnu(T_room,nu[highband_indices]*1e9)\n",
    "\n",
    "# Total loading\n",
    "lbl_2 = np.trapz(L2a,dx=dnu*1e9) + np.trapz(L2b,dx=dnu*1e9)\n",
    "hbl_2 = np.trapz(H2a,dx=dnu*1e9) + np.trapz(H2b,dx=dnu*1e9)"
   ]
  },
  {
   "cell_type": "markdown",
   "metadata": {},
   "source": [
    "Report results"
   ]
  },
  {
   "cell_type": "code",
   "execution_count": 26,
   "metadata": {},
   "outputs": [
    {
     "name": "stdout",
     "output_type": "stream",
     "text": [
      "Tc_upper = 0.50K, n = 2.70\n",
      "NDF (thickness, temp) = 5.00cm, 5.00K\n",
      "Lower Band Loading (30GHz)\n",
      "   Popt on sky        : 0.14 pW\n",
      "   Popt in lab w/ NDF : 7.06 pW  (needs to be less than next line)\n",
      "   Psat, on high-Tc   : 12.50 pW\n",
      "\n",
      "Upper Band Loading (40GHz)\n",
      "   Popt on sky        : 0.94 pW\n",
      "   Popt in lab w/ NDF : 11.09 pW (needs to be less than next line)\n",
      "   Psat, on high-Tc   : 83.95 pW\n"
     ]
    },
    {
     "data": {
      "image/png": "[encoded data removed]",
      "text/plain": [
       "<Figure size 720x576 with 1 Axes>"
      ]
     },
     "metadata": {
      "needs_background": "light"
     },
     "output_type": "display_data"
    }
   ],
   "source": [
    "# Plot NDF transmission\n",
    "miny = 1e-6\n",
    "maxy = 1\n",
    "plt.plot(nu,transmission)\n",
    "plt.plot([LowBand_lowedge,LowBand_lowedge],[miny,maxy],'r')\n",
    "plt.plot([LowBand_upperedge,LowBand_upperedge],[miny,maxy],'r')\n",
    "plt.plot([HighBand_lowedge,HighBand_lowedge],[miny,maxy],'--b')\n",
    "plt.plot([HighBand_upperedge,HighBand_upperedge],[miny,maxy],'--b')\n",
    "plt.ylim([miny,1.03*maxy])\n",
    "plt.grid()\n",
    "plt.title('NDF transmission, thickness = {0:2.2f}cm'.format(d))\n",
    "plt.xlabel('Frequency (GHz)')\n",
    "plt.text(LowBand_lowedge*1.01,0.7*maxy,'Low Band',color='red')\n",
    "plt.text(HighBand_lowedge*1.01,0.8*maxy,'Upper Band',color='blue')\n",
    "\n",
    "print('Tc_upper = {0:3.2f}K, n = {1:3.2f}'.format(Tc_upper,n))\n",
    "print('NDF (thickness, temp) = {0:2.2f}cm, {1:2.2f}K'.format(d,T_ndf))\n",
    "print('Lower Band Loading ('+BL+'GHz)')\n",
    "print('   Popt on sky        : {0:2.2f} pW'.format(Popt_low))\n",
    "print('   Popt in lab w/ NDF : {0:2.2f} pW  (needs to be less than next line)'.format(lbl_2*1e12))\n",
    "print('   Psat, on high-Tc   : {0:2.2f} pW'.format(Psat_low_highTc))\n",
    "print('')\n",
    "print('Upper Band Loading ('+BH+'GHz)')\n",
    "print('   Popt on sky        : {0:2.2f} pW'.format(Popt_high))\n",
    "print('   Popt in lab w/ NDF : {0:2.2f} pW (needs to be less than next line)'.format(hbl_2*1e12))\n",
    "print('   Psat, on high-Tc   : {0:2.2f} pW'.format(Psat_high_highTc))\n"
   ]
  },
  {
   "cell_type": "markdown",
   "metadata": {},
   "source": [
    "# Denouement\n",
    "Check whether the results given in the cell above are \"okay\".  We want \"P_opt in lab with NDF\" to be less than the upper Tc's Psat, for both bands.  And, we want the plot of NDF transmission to be not \"too sloped\" across each band, so it is reasonable to deconvolve it for FTS testing.  (The latter is a qualitative rather than quantitative statement.  A factor of 2-3 is probably okay across a given band, but a factor of 10 is probably not.)  The temperature and thickness of the NDF can be adjusted to affect these results - I have roughly tuned them to give reasonable values."
   ]
  },
  {
   "cell_type": "code",
   "execution_count": null,
   "metadata": {},
   "outputs": [],
   "source": []
  },
  {
   "cell_type": "code",
   "execution_count": null,
   "metadata": {},
   "outputs": [],
   "source": []
  },
  {
   "cell_type": "code",
   "execution_count": null,
   "metadata": {},
   "outputs": [],
   "source": []
  },
  {
   "cell_type": "code",
   "execution_count": null,
   "metadata": {},
   "outputs": [],
   "source": []
  }
 ],
 "metadata": {
  "kernelspec": {
   "display_name": "Python 3",
   "language": "python",
   "name": "python3"
  },
  "language_info": {
   "codemirror_mode": {
    "name": "ipython",
    "version": 3
   },
   "file_extension": ".py",
   "mimetype": "text/x-python",
   "name": "python",
   "nbconvert_exporter": "python",
   "pygments_lexer": "ipython3",
   "version": "3.8.3"
  }
 },
 "nbformat": 4,
 "nbformat_minor": 4
}
