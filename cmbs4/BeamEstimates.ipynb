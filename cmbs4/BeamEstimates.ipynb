{
 "cells": [
  {
   "cell_type": "markdown",
   "metadata": {},
   "source": [
    "# Gausian beam estimates for CMB-S4\n",
    "\n",
    "We'll start with Goldsmith's equation 6.41, the FWHM for a truncated gaussian\n",
    "\n",
    "$$ \\theta_{fwhm} = [1.02 + 0.0135 T_e] \\frac{\\lambda}{D} $$\n",
    "\n",
    "where $T_e$ is the edge taper in decibels."
   ]
  },
  {
   "cell_type": "code",
   "execution_count": 1,
   "metadata": {},
   "outputs": [],
   "source": [
    "c = 3e8 # mm/sec\n",
    "\n",
    "tels = ['sat','chlat','splat']\n",
    "sat_bands =         ['LF1','LF2','MF1_1','MF2_1','MF1_2','MF2_2','HF1','HF2']\n",
    "chlat_bands =       ['LF1','LF2','MF1',  'MF2',                  'HF1','HF2']\n",
    "splat_bands = ['ULF','LF1','LF2','MF1',  'MF2',                  'HF1','HF2']\n",
    "\n",
    "centers = {'ULF':20.0,'LF1':24.75,'LF2':36.65,'MF1':91.5,'MF2':148.5,'MF1_1':85.,'MF2_1':95,'MF1_2':145.,'MF2_2':155.,'HF1':227.,'HF2':285.5}\n",
    "\n",
    "# From SAT parameters table, 3/25/2023.  LF ones are grayed out, LF_2 is <15 so I'm using 15 here.\n",
    "sat_edge_tapers={'LF1':9.3,'LF2':15.,'MF1_1':8.69,'MF2_1':9.93,'MF1_2':16.58,'MF2_2':13.82,'HF1':9.93,'HF2':12.8} # dB\n",
    "lat_edge_tapers={'ULF':5.,'LF1':5.,'LF2':3.,'MF1':4, 'MF2':2.,'HF1':10.,'HF2':17.} # dB\n",
    "\n",
    "\n",
    "info = {}\n",
    "\n",
    "for tel in tels:\n",
    "    info[tel]={}\n",
    "    if tel == 'sat':\n",
    "        for band in sat_bands:\n",
    "            info[tel][band]={}\n",
    "            info[tel][band]['center']=centers[band]\n",
    "            info[tel][band]['taper']=sat_edge_tapers[band]\n",
    "            info[tel][band]['D']=0.560  #mm\n",
    "            # Lines below used for Si lenses.\n",
    "            #if (band == 'HF1' or band == 'HF2'):\n",
    "            #    info[tel][band]['D']=0.445 # mm\n",
    "                \n",
    "    if tel == 'chlat':\n",
    "        for band in chlat_bands:\n",
    "            info[tel][band]={}\n",
    "            info[tel][band]['center']=centers[band]\n",
    "            info[tel][band]['taper']=lat_edge_tapers[band]\n",
    "            info[tel][band]['D']=5.7 # meter aperture illuminated\n",
    "\n",
    "    if tel == 'splat':\n",
    "        for band in splat_bands:\n",
    "            info[tel][band]={}\n",
    "            info[tel][band]['center']=centers[band]\n",
    "            info[tel][band]['taper']=lat_edge_tapers[band]\n",
    "            info[tel][band]['D']=4.8 # meter aperture illuminated"
   ]
  },
  {
   "cell_type": "code",
   "execution_count": 3,
   "metadata": {},
   "outputs": [
    {
     "name": "stdout",
     "output_type": "stream",
     "text": [
      "sat------------\n",
      "LF1: Airy = 76.5,  Gauss+taper = 85.2\n",
      "LF2: Airy = 51.7,  Gauss+taper = 61.4\n",
      "MF1_1: Airy = 22.3,  Gauss+taper = 24.6\n",
      "MF2_1: Airy = 19.9,  Gauss+taper = 22.4\n",
      "MF1_2: Airy = 13.1,  Gauss+taper = 15.8\n",
      "MF2_2: Airy = 12.2,  Gauss+taper = 14.3\n",
      "HF1: Airy =  8.3,  Gauss+taper =  9.4\n",
      "HF2: Airy =  6.6,  Gauss+taper =  7.7\n",
      "chlat------------\n",
      "LF1: Airy =  7.5,  Gauss+taper =  8.0\n",
      "LF2: Airy =  5.1,  Gauss+taper =  5.2\n",
      "MF1: Airy =  2.0,  Gauss+taper =  2.1\n",
      "MF2: Airy =  1.3,  Gauss+taper =  1.3\n",
      "HF1: Airy =  0.8,  Gauss+taper =  0.9\n",
      "HF2: Airy =  0.7,  Gauss+taper =  0.8\n",
      "splat------------\n",
      "ULF: Airy = 11.0,  Gauss+taper = 11.7\n",
      "LF1: Airy =  8.9,  Gauss+taper =  9.4\n",
      "LF2: Airy =  6.0,  Gauss+taper =  6.2\n",
      "MF1: Airy =  2.4,  Gauss+taper =  2.5\n",
      "MF2: Airy =  1.5,  Gauss+taper =  1.5\n",
      "HF1: Airy =  1.0,  Gauss+taper =  1.1\n",
      "HF2: Airy =  0.8,  Gauss+taper =  0.9\n"
     ]
    }
   ],
   "source": [
    "for tel in tels:\n",
    "    print(tel + '------------')\n",
    "    for band in info[tel].keys():\n",
    "        D = info[tel][band]['D']\n",
    "        lam = c/(info[tel][band]['center']*1e9)\n",
    "        fwhm_airy = 1.028*lam/D  # This is the FWHM of the Airy pattern (1.22 is the radius of first null.)\n",
    "        fwhm_airy = fwhm_airy*(60*180./np.pi)\n",
    "        fwhm_goldsmith = (1.02 + 0.0135*info[tel][band]['taper'])*(lam/D) * (60*180./np.pi)\n",
    "        print(band + ': Airy = {0:4.1f},  Gauss+taper = {1:4.1f}'.format(fwhm_airy,fwhm_goldsmith))"
   ]
  },
  {
   "cell_type": "code",
   "execution_count": null,
   "metadata": {},
   "outputs": [],
   "source": []
  },
  {
   "cell_type": "code",
   "execution_count": null,
   "metadata": {},
   "outputs": [],
   "source": []
  }
 ],
 "metadata": {
  "kernelspec": {
   "display_name": "Python 3 (ipykernel)",
   "language": "python",
   "name": "python3"
  },
  "language_info": {
   "codemirror_mode": {
    "name": "ipython",
    "version": 3
   },
   "file_extension": ".py",
   "mimetype": "text/x-python",
   "name": "python",
   "nbconvert_exporter": "python",
   "pygments_lexer": "ipython3",
   "version": "3.9.13"
  }
 },
 "nbformat": 4,
 "nbformat_minor": 4
}
