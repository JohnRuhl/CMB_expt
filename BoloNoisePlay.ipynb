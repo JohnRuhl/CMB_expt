{
 "cells": [
  {
   "cell_type": "markdown",
   "metadata": {},
   "source": [
    "Trying to figure out noise terms in comparison of bolocalc and Barkats code. <br>\n",
    "Barkats uses the shunt resistor noise term;  is that actually important?"
   ]
  },
  {
   "cell_type": "code",
   "execution_count": 45,
   "metadata": {},
   "outputs": [],
   "source": [
    "import numpy as np\n",
    "import matplotlib.pyplot as plt\n",
    "# Definitions\n",
    "k = 1.38e-23\n",
    "RL = 0.003\n",
    "Rbolo = 0.050\n",
    "TL = 0.25\n",
    "Tbolo = 0.50\n",
    "L0 = 20\n",
    "Pelec = 3e-12\n",
    "Vbolo = np.sqrt(Pelec*Rbolo)\n",
    "S_I = 1/Vbolo  # dI/dP"
   ]
  },
  {
   "cell_type": "code",
   "execution_count": 46,
   "metadata": {},
   "outputs": [],
   "source": [
    "KL = RL/(R+RL)\n",
    "b = 2*KL - 1\n",
    "# At DC, ie w = 0\n",
    "KF = (1/(1-b*L0))"
   ]
  },
  {
   "cell_type": "code",
   "execution_count": 47,
   "metadata": {},
   "outputs": [
    {
     "name": "stdout",
     "output_type": "stream",
     "text": [
      "NEP_LR = 3.39e-17\n",
      "NEP_johnson = 1.40e-19\n"
     ]
    }
   ],
   "source": [
    "factor = (R/RL)*(1 + L0)*KL*KF\n",
    "NEI_LR = factor*np.sqrt(4*k*TL/RL)\n",
    "NEP_LR = NEI_LR/S_I\n",
    "NEI_johnson = KL*KF*np.sqrt(4*k*Tbolo/Rbolo)\n",
    "NEP_johnson = NEI_johnson/S_I\n",
    "print('NEP_LR = {0:2.2e}'.format(NEP_LR))\n",
    "print('NEP_johnson = {0:2.2e}'.format(NEP_johnson))"
   ]
  },
  {
   "cell_type": "code",
   "execution_count": 48,
   "metadata": {},
   "outputs": [
    {
     "data": {
      "text/plain": [
       "1.2923076923076924"
      ]
     },
     "execution_count": 48,
     "metadata": {},
     "output_type": "execute_result"
    }
   ],
   "source": [
    "factor"
   ]
  },
  {
   "cell_type": "code",
   "execution_count": null,
   "metadata": {},
   "outputs": [],
   "source": []
  },
  {
   "cell_type": "code",
   "execution_count": 39,
   "metadata": {},
   "outputs": [],
   "source": []
  },
  {
   "cell_type": "code",
   "execution_count": 40,
   "metadata": {},
   "outputs": [
    {
     "data": {
      "text/plain": [
       "3.394614600219541e-17"
      ]
     },
     "execution_count": 40,
     "metadata": {},
     "output_type": "execute_result"
    }
   ],
   "source": [
    "NEI_LR/S_I"
   ]
  },
  {
   "cell_type": "code",
   "execution_count": 41,
   "metadata": {},
   "outputs": [
    {
     "data": {
      "text/plain": [
       "1.3999154665941327e-19"
      ]
     },
     "execution_count": 41,
     "metadata": {},
     "output_type": "execute_result"
    }
   ],
   "source": [
    "NEI_johnson/S_I"
   ]
  },
  {
   "cell_type": "code",
   "execution_count": 31,
   "metadata": {},
   "outputs": [
    {
     "data": {
      "text/plain": [
       "1.5491933384829667e-07"
      ]
     },
     "execution_count": 31,
     "metadata": {},
     "output_type": "execute_result"
    }
   ],
   "source": [
    "Vbolo"
   ]
  },
  {
   "cell_type": "code",
   "execution_count": null,
   "metadata": {},
   "outputs": [],
   "source": []
  }
 ],
 "metadata": {
  "kernelspec": {
   "display_name": "Python 3",
   "language": "python",
   "name": "python3"
  },
  "language_info": {
   "codemirror_mode": {
    "name": "ipython",
    "version": 3
   },
   "file_extension": ".py",
   "mimetype": "text/x-python",
   "name": "python",
   "nbconvert_exporter": "python",
   "pygments_lexer": "ipython3",
   "version": "3.8.3"
  }
 },
 "nbformat": 4,
 "nbformat_minor": 4
}
